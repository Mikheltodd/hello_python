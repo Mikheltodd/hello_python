{
 "cells": [
  {
   "cell_type": "markdown",
   "id": "f4841beb",
   "metadata": {},
   "source": [
    "## Comments\n",
    "\n",
    "Ironically, the first thing we’re going to do is show how to tell a computer to ignore a part of a program. Text written in a program but not run by the computer is called a comment. Python interprets anything after a # as a comment. Comments can:\n",
    "- Provide context for why something is written the way it is:\n",
    "```python\n",
    "# This variable will be used to count the number of times anyone tweets the word persnickety\n",
    "persnickety_count = 0\n",
    "```\n",
    "- Help other people reading the code understand it faster:\n",
    "```python\n",
    "# This code will calculate the likelihood that it will rain tomorrow\n",
    "complicated_rain_calculation_for_tomorrow()\n",
    "```\n",
    "- Ignore a line of code and see how a program will run without it:\n",
    "```python\n",
    "# useful_value = old_sloppy_code()\n",
    "useful_value = new_clean_code()\n",
    "```"
   ]
  },
  {
   "cell_type": "markdown",
   "id": "8e7239de",
   "metadata": {},
   "source": [
    "Dar contexto:\n",
    "```python\n",
    "# Esta variable se utilizará para contar el número de veces que se repite una palabra\n",
    "word_count = 0\n",
    "```"
   ]
  },
  {
   "cell_type": "markdown",
   "id": "cf0b4cf1",
   "metadata": {},
   "source": [
    "Ayudar a otros a entender el código:\n",
    "```python\n",
    "# Este código realiza unas tareas complejas\n",
    "complicated_function = 0\n",
    "\n",
    "```"
   ]
  },
  {
   "cell_type": "markdown",
   "id": "94351933",
   "metadata": {},
   "source": [
    "Ignorar líneas de código y ver cómo funciona el programa sin ellas:\n",
    "```python\n",
    "# variable_x = old_function()\n",
    "variable_x = new_function()\n",
    "```"
   ]
  },
  {
   "cell_type": "markdown",
   "id": "0c502739",
   "metadata": {},
   "source": [
    "## Print"
   ]
  },
  {
   "cell_type": "code",
   "execution_count": 1,
   "id": "f80b24f8",
   "metadata": {},
   "outputs": [
    {
     "name": "stdout",
     "output_type": "stream",
     "text": [
      "Mi nombre es frailejón...\n"
     ]
    }
   ],
   "source": [
    "print(\"Mi nombre es frailejón...\")"
   ]
  },
  {
   "cell_type": "markdown",
   "id": "7e26124c",
   "metadata": {},
   "source": [
    "## Strings"
   ]
  },
  {
   "cell_type": "code",
   "execution_count": 2,
   "id": "c4c13e8e",
   "metadata": {},
   "outputs": [
    {
     "data": {
      "text/plain": [
       "'Ernesto Pérez'"
      ]
     },
     "execution_count": 2,
     "metadata": {},
     "output_type": "execute_result"
    }
   ],
   "source": [
    "\"Ernesto Pérez\""
   ]
  },
  {
   "cell_type": "markdown",
   "id": "fee0bfe4",
   "metadata": {},
   "source": [
    "## Variables"
   ]
  },
  {
   "cell_type": "code",
   "execution_count": 5,
   "id": "e6bb3063",
   "metadata": {},
   "outputs": [
    {
     "name": "stdout",
     "output_type": "stream",
     "text": [
      "Hola, mi nombre es \n",
      "Frailejón Ernesto Pérez.\n"
     ]
    }
   ],
   "source": [
    "greeting = \"Hola, mi nombre es \"\n",
    "my_name = \"Frailejón Ernesto Pérez.\"\n",
    "print(greeting)\n",
    "print(my_name)"
   ]
  },
  {
   "cell_type": "markdown",
   "id": "45c7d950",
   "metadata": {},
   "source": [
    "## Numbers"
   ]
  },
  {
   "cell_type": "code",
   "execution_count": 8,
   "id": "23d7c94c",
   "metadata": {},
   "outputs": [
    {
     "name": "stdout",
     "output_type": "stream",
     "text": [
      "7.5\n"
     ]
    }
   ],
   "source": [
    "an_int = 3\n",
    "a_float = 4.5\n",
    "print(an_int + a_float)"
   ]
  },
  {
   "cell_type": "markdown",
   "id": "3f894f0e",
   "metadata": {},
   "source": [
    "## Calculations"
   ]
  },
  {
   "cell_type": "code",
   "execution_count": 10,
   "id": "06747d18",
   "metadata": {},
   "outputs": [
    {
     "name": "stdout",
     "output_type": "stream",
     "text": [
      "392\n",
      "204.0\n",
      "15.0\n"
     ]
    }
   ],
   "source": [
    "print(365 + 40 - 13)\n",
    "print(24*8.5)\n",
    "print(60/4)"
   ]
  },
  {
   "cell_type": "code",
   "execution_count": 11,
   "id": "ca4c3a00",
   "metadata": {},
   "outputs": [
    {
     "ename": "ZeroDivisionError",
     "evalue": "division by zero",
     "output_type": "error",
     "traceback": [
      "\u001b[1;31m---------------------------------------------------------------------------\u001b[0m",
      "\u001b[1;31mZeroDivisionError\u001b[0m                         Traceback (most recent call last)",
      "Input \u001b[1;32mIn [11]\u001b[0m, in \u001b[0;36m<cell line: 1>\u001b[1;34m()\u001b[0m\n\u001b[1;32m----> 1\u001b[0m \u001b[38;5;28mprint\u001b[39m(\u001b[38;5;241;43m1\u001b[39;49m\u001b[38;5;241;43m/\u001b[39;49m\u001b[38;5;241;43m0\u001b[39;49m)\n",
      "\u001b[1;31mZeroDivisionError\u001b[0m: division by zero"
     ]
    }
   ],
   "source": [
    "print(1/0)"
   ]
  },
  {
   "cell_type": "markdown",
   "id": "f95f4e07",
   "metadata": {},
   "source": [
    "## Changing Values"
   ]
  },
  {
   "cell_type": "code",
   "execution_count": 12,
   "id": "04f9cea3",
   "metadata": {},
   "outputs": [
    {
     "name": "stdout",
     "output_type": "stream",
     "text": [
      "6600\n",
      "6900\n"
     ]
    }
   ],
   "source": [
    "empanada_price = 2200\n",
    "number_of_empanadas = 3\n",
    "print(empanada_price*number_of_empanadas)\n",
    "# Updating the price:\n",
    "empanada_price = 2300\n",
    "print(empanada_price*number_of_empanadas)"
   ]
  },
  {
   "cell_type": "markdown",
   "id": "d85e6827",
   "metadata": {},
   "source": [
    "## Exponents"
   ]
  },
  {
   "cell_type": "code",
   "execution_count": 13,
   "id": "dd9735a8",
   "metadata": {},
   "outputs": [
    {
     "name": "stdout",
     "output_type": "stream",
     "text": [
      "8\n",
      "1.7320508075688772\n"
     ]
    }
   ],
   "source": [
    "print(2**3)\n",
    "print(3**0.5)"
   ]
  },
  {
   "cell_type": "markdown",
   "id": "b815ec1c",
   "metadata": {},
   "source": [
    "## Module"
   ]
  },
  {
   "cell_type": "code",
   "execution_count": 14,
   "id": "467e53ca",
   "metadata": {},
   "outputs": [
    {
     "name": "stdout",
     "output_type": "stream",
     "text": [
      "2\n",
      "3\n"
     ]
    }
   ],
   "source": [
    "print(14%6)\n",
    "print(99%8)"
   ]
  },
  {
   "cell_type": "markdown",
   "id": "3035dd68",
   "metadata": {},
   "source": [
    "## Concatenation"
   ]
  },
  {
   "cell_type": "code",
   "execution_count": 17,
   "id": "b81b611c",
   "metadata": {},
   "outputs": [
    {
     "name": "stdout",
     "output_type": "stream",
     "text": [
      "Hola, mi nombre es Frailejón Ernesto Pérez. Tengo 150 años.\n",
      "Hola, mi nombre es  Frailejón Ernesto Pérez.  Tengo  150  años.\n"
     ]
    }
   ],
   "source": [
    "greeting = \"Hola, mi nombre es \"\n",
    "my_name = \"Frailejón Ernesto Pérez. \"\n",
    "compl_1 = \"Tengo \"\n",
    "age = 150 \n",
    "compl_2 = \" años.\"\n",
    "print(greeting + my_name + compl_1 + str(age) + compl_2)\n",
    "print(greeting, my_name, compl_1, age, compl_2)"
   ]
  },
  {
   "cell_type": "markdown",
   "id": "5c92a67f",
   "metadata": {},
   "source": [
    "## Plus Equal"
   ]
  },
  {
   "cell_type": "code",
   "execution_count": 18,
   "id": "df25de1e",
   "metadata": {},
   "outputs": [
    {
     "name": "stdout",
     "output_type": "stream",
     "text": [
      "6600\n",
      "11500\n"
     ]
    }
   ],
   "source": [
    "empanada_price = 2200\n",
    "number_of_empanadas = 3\n",
    "print(empanada_price*number_of_empanadas)\n",
    "# Updating the price:\n",
    "empanada_price = 2300\n",
    "# Updating quantity\n",
    "number_of_empanadas += 2\n",
    "print(empanada_price*number_of_empanadas)"
   ]
  },
  {
   "cell_type": "code",
   "execution_count": 19,
   "id": "41c4a208",
   "metadata": {},
   "outputs": [
    {
     "name": "stdout",
     "output_type": "stream",
     "text": [
      "Con el viejo Ernesto!#LoL\n"
     ]
    }
   ],
   "source": [
    "photo_caption = \"Con el viejo Ernesto!\"\n",
    "photo_caption += \"#LoL\"\n",
    "print(photo_caption)"
   ]
  },
  {
   "cell_type": "markdown",
   "id": "61bc4f7a",
   "metadata": {},
   "source": [
    "## Multi-line String"
   ]
  },
  {
   "cell_type": "code",
   "execution_count": 23,
   "id": "3f6a4c6a",
   "metadata": {},
   "outputs": [
    {
     "name": "stdout",
     "output_type": "stream",
     "text": [
      "\n",
      "Me gustas cuando callas porque estás como ausente,\n",
      "y me oyes desde lejos, y mi voz no te toca.\n",
      "Parece que los ojos se te hubieran volado\n",
      "y parece que un beso te cerrara la boca.\n",
      "\n"
     ]
    }
   ],
   "source": [
    "poem = \"\"\"\n",
    "Me gustas cuando callas porque estás como ausente,\n",
    "y me oyes desde lejos, y mi voz no te toca.\n",
    "Parece que los ojos se te hubieran volado\n",
    "y parece que un beso te cerrara la boca.\n",
    "\"\"\"\n",
    "print(poem)"
   ]
  },
  {
   "cell_type": "code",
   "execution_count": 22,
   "id": "515bd2b2",
   "metadata": {},
   "outputs": [
    {
     "data": {
      "text/plain": [
       "'\\nComo todas las cosas están llenas de mi alma\\nemerges de las cosas, llena del alma mía.\\nMariposa de sueño, te pareces a mi alma,\\ny te pareces a la palabra melancolía.\\n'"
      ]
     },
     "execution_count": 22,
     "metadata": {},
     "output_type": "execute_result"
    }
   ],
   "source": [
    "\"\"\"\n",
    "Como todas las cosas están llenas de mi alma\n",
    "emerges de las cosas, llena del alma mía.\n",
    "Mariposa de sueño, te pareces a mi alma,\n",
    "y te pareces a la palabra melancolía.\n",
    "\"\"\""
   ]
  },
  {
   "cell_type": "markdown",
   "id": "0728d071",
   "metadata": {},
   "source": [
    "## Relational Operators"
   ]
  },
  {
   "cell_type": "code",
   "execution_count": 3,
   "id": "88dc0dad",
   "metadata": {},
   "outputs": [
    {
     "name": "stdout",
     "output_type": "stream",
     "text": [
      "False\n",
      "True\n",
      "False\n",
      "False\n",
      "True\n",
      "True\n",
      "False\n"
     ]
    }
   ],
   "source": [
    "print(1 == 0)\n",
    "print(2 != 3)\n",
    "print('9' == 9)\n",
    "print(3 > 5)\n",
    "print(4 >= 2)\n",
    "print(15 < 25)\n",
    "print(30 <= 0)"
   ]
  },
  {
   "cell_type": "markdown",
   "id": "39278d1e",
   "metadata": {},
   "source": [
    "## If Statements"
   ]
  },
  {
   "cell_type": "code",
   "execution_count": 7,
   "id": "54d40ac8",
   "metadata": {},
   "outputs": [
    {
     "name": "stdout",
     "output_type": "stream",
     "text": [
      "Primer día de la semana.\n",
      "Mayor de edad.\n"
     ]
    }
   ],
   "source": [
    "day = \"Lunes\"\n",
    "if day == \"Lunes\":\n",
    "    print(\"Primer día de la semana.\")\n",
    "    \n",
    "age = 21\n",
    "if age >= 18:\n",
    "    print(\"Mayor de edad.\")"
   ]
  },
  {
   "cell_type": "markdown",
   "id": "32004f56",
   "metadata": {},
   "source": [
    "## Boolean Operators"
   ]
  },
  {
   "cell_type": "code",
   "execution_count": 11,
   "id": "97ff7703",
   "metadata": {},
   "outputs": [
    {
     "name": "stdout",
     "output_type": "stream",
     "text": [
      "False\n",
      "False\n",
      "True\n",
      "False\n",
      "True\n",
      "True\n"
     ]
    }
   ],
   "source": [
    "# and\n",
    "print((4 > 5) and (7 != 3))\n",
    "print((4 == 3) and (5 + 1 == 1))\n",
    "# or\n",
    "print(True or (3 + 4 == 7))\n",
    "print((3 == 8) or (3 > 4))\n",
    "# not\n",
    "print(not (3 > 5))\n",
    "print(True and not (3 > 5))"
   ]
  },
  {
   "cell_type": "markdown",
   "id": "243c5abd",
   "metadata": {},
   "source": [
    "## Else Statements"
   ]
  },
  {
   "cell_type": "code",
   "execution_count": 13,
   "id": "1a92cc90",
   "metadata": {},
   "outputs": [
    {
     "name": "stdout",
     "output_type": "stream",
     "text": [
      "Acceso Autorizado\n"
     ]
    }
   ],
   "source": [
    "role = \"admin\"\n",
    "if role == 'admin':\n",
    "    print(\"Acceso Autorizado\")\n",
    "else:\n",
    "    print(\"Acceso Denegado\")"
   ]
  },
  {
   "cell_type": "markdown",
   "id": "d252cd6e",
   "metadata": {},
   "source": [
    "## Elif Statements"
   ]
  },
  {
   "cell_type": "code",
   "execution_count": 15,
   "id": "6a602393",
   "metadata": {},
   "outputs": [
    {
     "name": "stdout",
     "output_type": "stream",
     "text": [
      "Bien\n"
     ]
    }
   ],
   "source": [
    "score = 65\n",
    "if score > 90:\n",
    "    print(\"¡Excelente!\")\n",
    "elif score > 60:\n",
    "    print(\"Bien\")\n",
    "else:\n",
    "    print(\"Puede mejorar...\")"
   ]
  },
  {
   "cell_type": "markdown",
   "id": "030c4d19",
   "metadata": {},
   "source": [
    "## User Inputs"
   ]
  },
  {
   "cell_type": "code",
   "execution_count": 4,
   "id": "805ef7be",
   "metadata": {},
   "outputs": [
    {
     "name": "stdout",
     "output_type": "stream",
     "text": [
      "¿Cuántos años tienes? 30\n",
      "Tu edad es 30 años\n",
      "<class 'str'>\n"
     ]
    }
   ],
   "source": [
    "user_age = input(\"¿Cuántos años tienes? \")\n",
    "print(\"Tu edad es \" + user_age + \" años\")\n",
    "print(type(user_age))"
   ]
  },
  {
   "cell_type": "markdown",
   "id": "cfa10b46",
   "metadata": {},
   "source": [
    "## Errors"
   ]
  },
  {
   "cell_type": "code",
   "execution_count": 16,
   "id": "e5e4a52b",
   "metadata": {},
   "outputs": [
    {
     "ename": "SyntaxError",
     "evalue": "unexpected EOF while parsing (742254036.py, line 1)",
     "output_type": "error",
     "traceback": [
      "\u001b[1;36m  Input \u001b[1;32mIn [16]\u001b[1;36m\u001b[0m\n\u001b[1;33m    print(my_name\u001b[0m\n\u001b[1;37m                 ^\u001b[0m\n\u001b[1;31mSyntaxError\u001b[0m\u001b[1;31m:\u001b[0m unexpected EOF while parsing\n"
     ]
    }
   ],
   "source": [
    "print(my_name"
   ]
  },
  {
   "cell_type": "code",
   "execution_count": 17,
   "id": "2bf0e484",
   "metadata": {},
   "outputs": [
    {
     "ename": "NameError",
     "evalue": "name 'your_name' is not defined",
     "output_type": "error",
     "traceback": [
      "\u001b[1;31m---------------------------------------------------------------------------\u001b[0m",
      "\u001b[1;31mNameError\u001b[0m                                 Traceback (most recent call last)",
      "Input \u001b[1;32mIn [17]\u001b[0m, in \u001b[0;36m<cell line: 1>\u001b[1;34m()\u001b[0m\n\u001b[1;32m----> 1\u001b[0m \u001b[38;5;28mprint\u001b[39m(\u001b[43myour_name\u001b[49m)\n",
      "\u001b[1;31mNameError\u001b[0m: name 'your_name' is not defined"
     ]
    }
   ],
   "source": [
    "print(your_name)"
   ]
  },
  {
   "cell_type": "code",
   "execution_count": 18,
   "id": "93c52232",
   "metadata": {},
   "outputs": [
    {
     "ename": "TypeError",
     "evalue": "can only concatenate str (not \"int\") to str",
     "output_type": "error",
     "traceback": [
      "\u001b[1;31m---------------------------------------------------------------------------\u001b[0m",
      "\u001b[1;31mTypeError\u001b[0m                                 Traceback (most recent call last)",
      "Input \u001b[1;32mIn [18]\u001b[0m, in \u001b[0;36m<cell line: 1>\u001b[1;34m()\u001b[0m\n\u001b[1;32m----> 1\u001b[0m savings \u001b[38;5;241m=\u001b[39m \u001b[38;5;124;43m'\u001b[39;49m\u001b[38;5;124;43m3\u001b[39;49m\u001b[38;5;124;43m'\u001b[39;49m\u001b[43m \u001b[49m\u001b[38;5;241;43m+\u001b[39;49m\u001b[43m \u001b[49m\u001b[38;5;241;43m4\u001b[39;49m\n",
      "\u001b[1;31mTypeError\u001b[0m: can only concatenate str (not \"int\") to str"
     ]
    }
   ],
   "source": [
    "savings = '3' + 4"
   ]
  },
  {
   "cell_type": "code",
   "execution_count": null,
   "id": "165402b8",
   "metadata": {},
   "outputs": [],
   "source": []
  }
 ],
 "metadata": {
  "kernelspec": {
   "display_name": "Python 3 (ipykernel)",
   "language": "python",
   "name": "python3"
  },
  "language_info": {
   "codemirror_mode": {
    "name": "ipython",
    "version": 3
   },
   "file_extension": ".py",
   "mimetype": "text/x-python",
   "name": "python",
   "nbconvert_exporter": "python",
   "pygments_lexer": "ipython3",
   "version": "3.9.12"
  }
 },
 "nbformat": 4,
 "nbformat_minor": 5
}
